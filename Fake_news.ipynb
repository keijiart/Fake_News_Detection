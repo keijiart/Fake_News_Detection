{
 "cells": [
  {
   "cell_type": "markdown",
   "metadata": {},
   "source": [
    "# Fake News Detection\n",
    "\n",
    "1. A\n",
    "\n",
    "2. B\n",
    "\n",
    "3. C"
   ]
  },
  {
   "cell_type": "code",
   "execution_count": 192,
   "metadata": {},
   "outputs": [],
   "source": [
    "import pandas as pd\n",
    "import numpy as np\n",
    "from sklearn.model_selection import train_test_split\n",
    "from sklearn.metrics import classification_report\n",
    "import matplotlib.pyplot as plt\n",
    "import re\n",
    "import string\n",
    "from sklearn.metrics import accuracy_score, confusion_matrix"
   ]
  },
  {
   "cell_type": "markdown",
   "metadata": {},
   "source": [
    "### Load the data"
   ]
  },
  {
   "cell_type": "code",
   "execution_count": 193,
   "metadata": {},
   "outputs": [],
   "source": [
    "df_fake = pd.read_csv('Fake.csv')\n",
    "df_true = pd.read_csv('True.csv')"
   ]
  },
  {
   "cell_type": "markdown",
   "metadata": {},
   "source": [
    "## Fake News Database\n",
    "### First view of the data"
   ]
  },
  {
   "cell_type": "code",
   "execution_count": 194,
   "metadata": {},
   "outputs": [
    {
     "data": {
      "text/html": [
       "<div>\n",
       "<style scoped>\n",
       "    .dataframe tbody tr th:only-of-type {\n",
       "        vertical-align: middle;\n",
       "    }\n",
       "\n",
       "    .dataframe tbody tr th {\n",
       "        vertical-align: top;\n",
       "    }\n",
       "\n",
       "    .dataframe thead th {\n",
       "        text-align: right;\n",
       "    }\n",
       "</style>\n",
       "<table border=\"1\" class=\"dataframe\">\n",
       "  <thead>\n",
       "    <tr style=\"text-align: right;\">\n",
       "      <th></th>\n",
       "      <th>title</th>\n",
       "      <th>text</th>\n",
       "      <th>subject</th>\n",
       "      <th>date</th>\n",
       "    </tr>\n",
       "  </thead>\n",
       "  <tbody>\n",
       "    <tr>\n",
       "      <th>0</th>\n",
       "      <td>Cops In Republican Senate Office Violently As...</td>\n",
       "      <td>A group of disabled Americans protesting the S...</td>\n",
       "      <td>News</td>\n",
       "      <td>June 26, 2017</td>\n",
       "    </tr>\n",
       "    <tr>\n",
       "      <th>1</th>\n",
       "      <td>CNN’s Don Lemon Tries to Downplay Horrific ‘An...</td>\n",
       "      <td>In case you missed it, CNN anchor Don Lemon we...</td>\n",
       "      <td>US_News</td>\n",
       "      <td>January 6, 2017</td>\n",
       "    </tr>\n",
       "    <tr>\n",
       "      <th>2</th>\n",
       "      <td>Katrina Pierson Just Blamed Hillary Clinton F...</td>\n",
       "      <td>Following the presidential debate, Donald Trum...</td>\n",
       "      <td>News</td>\n",
       "      <td>September 27, 2016</td>\n",
       "    </tr>\n",
       "    <tr>\n",
       "      <th>3</th>\n",
       "      <td>Chris Matthews Stuns Colleagues By Telling Th...</td>\n",
       "      <td>Ted Cruz is horrible. According to former clas...</td>\n",
       "      <td>News</td>\n",
       "      <td>February 10, 2016</td>\n",
       "    </tr>\n",
       "    <tr>\n",
       "      <th>4</th>\n",
       "      <td>PARKS and REC and JIMMY FALLON Writer Thinks T...</td>\n",
       "      <td>When they go low we go high.    Michelle Obam...</td>\n",
       "      <td>left-news</td>\n",
       "      <td>Oct 1, 2017</td>\n",
       "    </tr>\n",
       "  </tbody>\n",
       "</table>\n",
       "</div>"
      ],
      "text/plain": [
       "                                               title  \\\n",
       "0   Cops In Republican Senate Office Violently As...   \n",
       "1  CNN’s Don Lemon Tries to Downplay Horrific ‘An...   \n",
       "2   Katrina Pierson Just Blamed Hillary Clinton F...   \n",
       "3   Chris Matthews Stuns Colleagues By Telling Th...   \n",
       "4  PARKS and REC and JIMMY FALLON Writer Thinks T...   \n",
       "\n",
       "                                                text    subject  \\\n",
       "0  A group of disabled Americans protesting the S...       News   \n",
       "1  In case you missed it, CNN anchor Don Lemon we...    US_News   \n",
       "2  Following the presidential debate, Donald Trum...       News   \n",
       "3  Ted Cruz is horrible. According to former clas...       News   \n",
       "4   When they go low we go high.    Michelle Obam...  left-news   \n",
       "\n",
       "                 date  \n",
       "0       June 26, 2017  \n",
       "1     January 6, 2017  \n",
       "2  September 27, 2016  \n",
       "3   February 10, 2016  \n",
       "4         Oct 1, 2017  "
      ]
     },
     "execution_count": 194,
     "metadata": {},
     "output_type": "execute_result"
    }
   ],
   "source": [
    "df_fake.head()"
   ]
  },
  {
   "cell_type": "markdown",
   "metadata": {},
   "source": [
    "### Number of rows and columns"
   ]
  },
  {
   "cell_type": "code",
   "execution_count": 195,
   "metadata": {},
   "outputs": [
    {
     "data": {
      "text/plain": [
       "(29759, 4)"
      ]
     },
     "execution_count": 195,
     "metadata": {},
     "output_type": "execute_result"
    }
   ],
   "source": [
    "df_fake.shape"
   ]
  },
  {
   "cell_type": "markdown",
   "metadata": {},
   "source": [
    "### Columns and Types"
   ]
  },
  {
   "cell_type": "code",
   "execution_count": 196,
   "metadata": {},
   "outputs": [
    {
     "name": "stdout",
     "output_type": "stream",
     "text": [
      "<class 'pandas.core.frame.DataFrame'>\n",
      "RangeIndex: 29759 entries, 0 to 29758\n",
      "Data columns (total 4 columns):\n",
      " #   Column   Non-Null Count  Dtype \n",
      "---  ------   --------------  ----- \n",
      " 0   title    29759 non-null  object\n",
      " 1   text     29759 non-null  object\n",
      " 2   subject  23442 non-null  object\n",
      " 3   date     23442 non-null  object\n",
      "dtypes: object(4)\n",
      "memory usage: 930.1+ KB\n"
     ]
    }
   ],
   "source": [
    "df_fake.info()"
   ]
  },
  {
   "cell_type": "markdown",
   "metadata": {},
   "source": [
    "## True News Database\n",
    "### First view of the data"
   ]
  },
  {
   "cell_type": "code",
   "execution_count": 197,
   "metadata": {},
   "outputs": [
    {
     "data": {
      "text/html": [
       "<div>\n",
       "<style scoped>\n",
       "    .dataframe tbody tr th:only-of-type {\n",
       "        vertical-align: middle;\n",
       "    }\n",
       "\n",
       "    .dataframe tbody tr th {\n",
       "        vertical-align: top;\n",
       "    }\n",
       "\n",
       "    .dataframe thead th {\n",
       "        text-align: right;\n",
       "    }\n",
       "</style>\n",
       "<table border=\"1\" class=\"dataframe\">\n",
       "  <thead>\n",
       "    <tr style=\"text-align: right;\">\n",
       "      <th></th>\n",
       "      <th>title</th>\n",
       "      <th>text</th>\n",
       "      <th>subject</th>\n",
       "      <th>date</th>\n",
       "    </tr>\n",
       "  </thead>\n",
       "  <tbody>\n",
       "    <tr>\n",
       "      <th>0</th>\n",
       "      <td>Energy Secretary Perry cancels Kazakhstan visi...</td>\n",
       "      <td>ALMATY (Reuters) - United States Energy Secret...</td>\n",
       "      <td>politicsNews</td>\n",
       "      <td>August 28, 2017</td>\n",
       "    </tr>\n",
       "    <tr>\n",
       "      <th>1</th>\n",
       "      <td>Dozens killed, wounded by car bomb in Afghan p...</td>\n",
       "      <td>KABUL (Reuters) - As many as 13 people, includ...</td>\n",
       "      <td>worldnews</td>\n",
       "      <td>August 27, 2017</td>\n",
       "    </tr>\n",
       "    <tr>\n",
       "      <th>2</th>\n",
       "      <td>Moscow to cut dependence on U.S. payment syste...</td>\n",
       "      <td>MOSCOW (Reuters) - Russia will speed up work o...</td>\n",
       "      <td>politicsNews</td>\n",
       "      <td>August 7, 2017</td>\n",
       "    </tr>\n",
       "    <tr>\n",
       "      <th>3</th>\n",
       "      <td>In Syria, Russia securing position as Assad pr...</td>\n",
       "      <td>BEIRUT (Reuters) - With the map of Syria s con...</td>\n",
       "      <td>worldnews</td>\n",
       "      <td>December 15, 2017</td>\n",
       "    </tr>\n",
       "    <tr>\n",
       "      <th>4</th>\n",
       "      <td>Coca, trafficking greatest threats to Colombia...</td>\n",
       "      <td>BOGOTA (Reuters) - A peace deal between Colomb...</td>\n",
       "      <td>worldnews</td>\n",
       "      <td>October 13, 2017</td>\n",
       "    </tr>\n",
       "  </tbody>\n",
       "</table>\n",
       "</div>"
      ],
      "text/plain": [
       "                                               title  \\\n",
       "0  Energy Secretary Perry cancels Kazakhstan visi...   \n",
       "1  Dozens killed, wounded by car bomb in Afghan p...   \n",
       "2  Moscow to cut dependence on U.S. payment syste...   \n",
       "3  In Syria, Russia securing position as Assad pr...   \n",
       "4  Coca, trafficking greatest threats to Colombia...   \n",
       "\n",
       "                                                text       subject  \\\n",
       "0  ALMATY (Reuters) - United States Energy Secret...  politicsNews   \n",
       "1  KABUL (Reuters) - As many as 13 people, includ...     worldnews   \n",
       "2  MOSCOW (Reuters) - Russia will speed up work o...  politicsNews   \n",
       "3  BEIRUT (Reuters) - With the map of Syria s con...     worldnews   \n",
       "4  BOGOTA (Reuters) - A peace deal between Colomb...     worldnews   \n",
       "\n",
       "                 date  \n",
       "0    August 28, 2017   \n",
       "1    August 27, 2017   \n",
       "2     August 7, 2017   \n",
       "3  December 15, 2017   \n",
       "4   October 13, 2017   "
      ]
     },
     "execution_count": 197,
     "metadata": {},
     "output_type": "execute_result"
    }
   ],
   "source": [
    "df_true.head()"
   ]
  },
  {
   "cell_type": "markdown",
   "metadata": {},
   "source": [
    "### Number of rows and columns"
   ]
  },
  {
   "cell_type": "code",
   "execution_count": 198,
   "metadata": {},
   "outputs": [
    {
     "data": {
      "text/plain": [
       "(27709, 4)"
      ]
     },
     "execution_count": 198,
     "metadata": {},
     "output_type": "execute_result"
    }
   ],
   "source": [
    "df_true.shape"
   ]
  },
  {
   "cell_type": "markdown",
   "metadata": {},
   "source": [
    "### Columns and Types"
   ]
  },
  {
   "cell_type": "code",
   "execution_count": 199,
   "metadata": {},
   "outputs": [
    {
     "name": "stdout",
     "output_type": "stream",
     "text": [
      "<class 'pandas.core.frame.DataFrame'>\n",
      "RangeIndex: 27709 entries, 0 to 27708\n",
      "Data columns (total 4 columns):\n",
      " #   Column   Non-Null Count  Dtype \n",
      "---  ------   --------------  ----- \n",
      " 0   title    27709 non-null  object\n",
      " 1   text     27709 non-null  object\n",
      " 2   subject  21381 non-null  object\n",
      " 3   date     21381 non-null  object\n",
      "dtypes: object(4)\n",
      "memory usage: 866.0+ KB\n"
     ]
    }
   ],
   "source": [
    "df_true.info()"
   ]
  },
  {
   "cell_type": "markdown",
   "metadata": {},
   "source": [
    "## Adding a new column: giving a class to 'Fake News' and 'True News'"
   ]
  },
  {
   "cell_type": "code",
   "execution_count": 200,
   "metadata": {},
   "outputs": [],
   "source": [
    "df_fake[\"class\"] = 0\n",
    "df_true[\"class\"] = 1"
   ]
  },
  {
   "cell_type": "code",
   "execution_count": 201,
   "metadata": {},
   "outputs": [
    {
     "data": {
      "text/html": [
       "<div>\n",
       "<style scoped>\n",
       "    .dataframe tbody tr th:only-of-type {\n",
       "        vertical-align: middle;\n",
       "    }\n",
       "\n",
       "    .dataframe tbody tr th {\n",
       "        vertical-align: top;\n",
       "    }\n",
       "\n",
       "    .dataframe thead th {\n",
       "        text-align: right;\n",
       "    }\n",
       "</style>\n",
       "<table border=\"1\" class=\"dataframe\">\n",
       "  <thead>\n",
       "    <tr style=\"text-align: right;\">\n",
       "      <th></th>\n",
       "      <th>title</th>\n",
       "      <th>text</th>\n",
       "      <th>subject</th>\n",
       "      <th>date</th>\n",
       "      <th>class</th>\n",
       "    </tr>\n",
       "  </thead>\n",
       "  <tbody>\n",
       "    <tr>\n",
       "      <th>0</th>\n",
       "      <td>Energy Secretary Perry cancels Kazakhstan visi...</td>\n",
       "      <td>ALMATY (Reuters) - United States Energy Secret...</td>\n",
       "      <td>politicsNews</td>\n",
       "      <td>August 28, 2017</td>\n",
       "      <td>1</td>\n",
       "    </tr>\n",
       "    <tr>\n",
       "      <th>1</th>\n",
       "      <td>Dozens killed, wounded by car bomb in Afghan p...</td>\n",
       "      <td>KABUL (Reuters) - As many as 13 people, includ...</td>\n",
       "      <td>worldnews</td>\n",
       "      <td>August 27, 2017</td>\n",
       "      <td>1</td>\n",
       "    </tr>\n",
       "    <tr>\n",
       "      <th>2</th>\n",
       "      <td>Moscow to cut dependence on U.S. payment syste...</td>\n",
       "      <td>MOSCOW (Reuters) - Russia will speed up work o...</td>\n",
       "      <td>politicsNews</td>\n",
       "      <td>August 7, 2017</td>\n",
       "      <td>1</td>\n",
       "    </tr>\n",
       "    <tr>\n",
       "      <th>3</th>\n",
       "      <td>In Syria, Russia securing position as Assad pr...</td>\n",
       "      <td>BEIRUT (Reuters) - With the map of Syria s con...</td>\n",
       "      <td>worldnews</td>\n",
       "      <td>December 15, 2017</td>\n",
       "      <td>1</td>\n",
       "    </tr>\n",
       "    <tr>\n",
       "      <th>4</th>\n",
       "      <td>Coca, trafficking greatest threats to Colombia...</td>\n",
       "      <td>BOGOTA (Reuters) - A peace deal between Colomb...</td>\n",
       "      <td>worldnews</td>\n",
       "      <td>October 13, 2017</td>\n",
       "      <td>1</td>\n",
       "    </tr>\n",
       "  </tbody>\n",
       "</table>\n",
       "</div>"
      ],
      "text/plain": [
       "                                               title  \\\n",
       "0  Energy Secretary Perry cancels Kazakhstan visi...   \n",
       "1  Dozens killed, wounded by car bomb in Afghan p...   \n",
       "2  Moscow to cut dependence on U.S. payment syste...   \n",
       "3  In Syria, Russia securing position as Assad pr...   \n",
       "4  Coca, trafficking greatest threats to Colombia...   \n",
       "\n",
       "                                                text       subject  \\\n",
       "0  ALMATY (Reuters) - United States Energy Secret...  politicsNews   \n",
       "1  KABUL (Reuters) - As many as 13 people, includ...     worldnews   \n",
       "2  MOSCOW (Reuters) - Russia will speed up work o...  politicsNews   \n",
       "3  BEIRUT (Reuters) - With the map of Syria s con...     worldnews   \n",
       "4  BOGOTA (Reuters) - A peace deal between Colomb...     worldnews   \n",
       "\n",
       "                 date  class  \n",
       "0    August 28, 2017       1  \n",
       "1    August 27, 2017       1  \n",
       "2     August 7, 2017       1  \n",
       "3  December 15, 2017       1  \n",
       "4   October 13, 2017       1  "
      ]
     },
     "execution_count": 201,
     "metadata": {},
     "output_type": "execute_result"
    }
   ],
   "source": [
    "df_true.head()"
   ]
  },
  {
   "cell_type": "code",
   "execution_count": 202,
   "metadata": {},
   "outputs": [
    {
     "data": {
      "text/html": [
       "<div>\n",
       "<style scoped>\n",
       "    .dataframe tbody tr th:only-of-type {\n",
       "        vertical-align: middle;\n",
       "    }\n",
       "\n",
       "    .dataframe tbody tr th {\n",
       "        vertical-align: top;\n",
       "    }\n",
       "\n",
       "    .dataframe thead th {\n",
       "        text-align: right;\n",
       "    }\n",
       "</style>\n",
       "<table border=\"1\" class=\"dataframe\">\n",
       "  <thead>\n",
       "    <tr style=\"text-align: right;\">\n",
       "      <th></th>\n",
       "      <th>title</th>\n",
       "      <th>text</th>\n",
       "      <th>subject</th>\n",
       "      <th>date</th>\n",
       "      <th>class</th>\n",
       "    </tr>\n",
       "  </thead>\n",
       "  <tbody>\n",
       "    <tr>\n",
       "      <th>0</th>\n",
       "      <td>Cops In Republican Senate Office Violently As...</td>\n",
       "      <td>A group of disabled Americans protesting the S...</td>\n",
       "      <td>News</td>\n",
       "      <td>June 26, 2017</td>\n",
       "      <td>0</td>\n",
       "    </tr>\n",
       "    <tr>\n",
       "      <th>1</th>\n",
       "      <td>CNN’s Don Lemon Tries to Downplay Horrific ‘An...</td>\n",
       "      <td>In case you missed it, CNN anchor Don Lemon we...</td>\n",
       "      <td>US_News</td>\n",
       "      <td>January 6, 2017</td>\n",
       "      <td>0</td>\n",
       "    </tr>\n",
       "    <tr>\n",
       "      <th>2</th>\n",
       "      <td>Katrina Pierson Just Blamed Hillary Clinton F...</td>\n",
       "      <td>Following the presidential debate, Donald Trum...</td>\n",
       "      <td>News</td>\n",
       "      <td>September 27, 2016</td>\n",
       "      <td>0</td>\n",
       "    </tr>\n",
       "    <tr>\n",
       "      <th>3</th>\n",
       "      <td>Chris Matthews Stuns Colleagues By Telling Th...</td>\n",
       "      <td>Ted Cruz is horrible. According to former clas...</td>\n",
       "      <td>News</td>\n",
       "      <td>February 10, 2016</td>\n",
       "      <td>0</td>\n",
       "    </tr>\n",
       "    <tr>\n",
       "      <th>4</th>\n",
       "      <td>PARKS and REC and JIMMY FALLON Writer Thinks T...</td>\n",
       "      <td>When they go low we go high.    Michelle Obam...</td>\n",
       "      <td>left-news</td>\n",
       "      <td>Oct 1, 2017</td>\n",
       "      <td>0</td>\n",
       "    </tr>\n",
       "  </tbody>\n",
       "</table>\n",
       "</div>"
      ],
      "text/plain": [
       "                                               title  \\\n",
       "0   Cops In Republican Senate Office Violently As...   \n",
       "1  CNN’s Don Lemon Tries to Downplay Horrific ‘An...   \n",
       "2   Katrina Pierson Just Blamed Hillary Clinton F...   \n",
       "3   Chris Matthews Stuns Colleagues By Telling Th...   \n",
       "4  PARKS and REC and JIMMY FALLON Writer Thinks T...   \n",
       "\n",
       "                                                text    subject  \\\n",
       "0  A group of disabled Americans protesting the S...       News   \n",
       "1  In case you missed it, CNN anchor Don Lemon we...    US_News   \n",
       "2  Following the presidential debate, Donald Trum...       News   \n",
       "3  Ted Cruz is horrible. According to former clas...       News   \n",
       "4   When they go low we go high.    Michelle Obam...  left-news   \n",
       "\n",
       "                 date  class  \n",
       "0       June 26, 2017      0  \n",
       "1     January 6, 2017      0  \n",
       "2  September 27, 2016      0  \n",
       "3   February 10, 2016      0  \n",
       "4         Oct 1, 2017      0  "
      ]
     },
     "execution_count": 202,
     "metadata": {},
     "output_type": "execute_result"
    }
   ],
   "source": [
    "df_fake.head()"
   ]
  },
  {
   "cell_type": "markdown",
   "metadata": {},
   "source": [
    "## Merge the 'Fake News' and 'True News' Database"
   ]
  },
  {
   "cell_type": "code",
   "execution_count": 203,
   "metadata": {},
   "outputs": [
    {
     "data": {
      "text/html": [
       "<div>\n",
       "<style scoped>\n",
       "    .dataframe tbody tr th:only-of-type {\n",
       "        vertical-align: middle;\n",
       "    }\n",
       "\n",
       "    .dataframe tbody tr th {\n",
       "        vertical-align: top;\n",
       "    }\n",
       "\n",
       "    .dataframe thead th {\n",
       "        text-align: right;\n",
       "    }\n",
       "</style>\n",
       "<table border=\"1\" class=\"dataframe\">\n",
       "  <thead>\n",
       "    <tr style=\"text-align: right;\">\n",
       "      <th></th>\n",
       "      <th>title</th>\n",
       "      <th>text</th>\n",
       "      <th>subject</th>\n",
       "      <th>date</th>\n",
       "      <th>class</th>\n",
       "    </tr>\n",
       "  </thead>\n",
       "  <tbody>\n",
       "    <tr>\n",
       "      <th>0</th>\n",
       "      <td>Cops In Republican Senate Office Violently As...</td>\n",
       "      <td>A group of disabled Americans protesting the S...</td>\n",
       "      <td>News</td>\n",
       "      <td>June 26, 2017</td>\n",
       "      <td>0</td>\n",
       "    </tr>\n",
       "    <tr>\n",
       "      <th>1</th>\n",
       "      <td>CNN’s Don Lemon Tries to Downplay Horrific ‘An...</td>\n",
       "      <td>In case you missed it, CNN anchor Don Lemon we...</td>\n",
       "      <td>US_News</td>\n",
       "      <td>January 6, 2017</td>\n",
       "      <td>0</td>\n",
       "    </tr>\n",
       "    <tr>\n",
       "      <th>2</th>\n",
       "      <td>Katrina Pierson Just Blamed Hillary Clinton F...</td>\n",
       "      <td>Following the presidential debate, Donald Trum...</td>\n",
       "      <td>News</td>\n",
       "      <td>September 27, 2016</td>\n",
       "      <td>0</td>\n",
       "    </tr>\n",
       "    <tr>\n",
       "      <th>3</th>\n",
       "      <td>Chris Matthews Stuns Colleagues By Telling Th...</td>\n",
       "      <td>Ted Cruz is horrible. According to former clas...</td>\n",
       "      <td>News</td>\n",
       "      <td>February 10, 2016</td>\n",
       "      <td>0</td>\n",
       "    </tr>\n",
       "    <tr>\n",
       "      <th>4</th>\n",
       "      <td>PARKS and REC and JIMMY FALLON Writer Thinks T...</td>\n",
       "      <td>When they go low we go high.    Michelle Obam...</td>\n",
       "      <td>left-news</td>\n",
       "      <td>Oct 1, 2017</td>\n",
       "      <td>0</td>\n",
       "    </tr>\n",
       "  </tbody>\n",
       "</table>\n",
       "</div>"
      ],
      "text/plain": [
       "                                               title  \\\n",
       "0   Cops In Republican Senate Office Violently As...   \n",
       "1  CNN’s Don Lemon Tries to Downplay Horrific ‘An...   \n",
       "2   Katrina Pierson Just Blamed Hillary Clinton F...   \n",
       "3   Chris Matthews Stuns Colleagues By Telling Th...   \n",
       "4  PARKS and REC and JIMMY FALLON Writer Thinks T...   \n",
       "\n",
       "                                                text    subject  \\\n",
       "0  A group of disabled Americans protesting the S...       News   \n",
       "1  In case you missed it, CNN anchor Don Lemon we...    US_News   \n",
       "2  Following the presidential debate, Donald Trum...       News   \n",
       "3  Ted Cruz is horrible. According to former clas...       News   \n",
       "4   When they go low we go high.    Michelle Obam...  left-news   \n",
       "\n",
       "                 date  class  \n",
       "0       June 26, 2017      0  \n",
       "1     January 6, 2017      0  \n",
       "2  September 27, 2016      0  \n",
       "3   February 10, 2016      0  \n",
       "4         Oct 1, 2017      0  "
      ]
     },
     "execution_count": 203,
     "metadata": {},
     "output_type": "execute_result"
    }
   ],
   "source": [
    "df_marge = pd.concat([df_fake, df_true], axis=0)\n",
    "df_marge.head()"
   ]
  },
  {
   "cell_type": "markdown",
   "metadata": {},
   "source": [
    "### Since we don't need the columns 'title', 'subject', and 'date', we dropped it\n"
   ]
  },
  {
   "cell_type": "code",
   "execution_count": 204,
   "metadata": {},
   "outputs": [
    {
     "data": {
      "text/html": [
       "<div>\n",
       "<style scoped>\n",
       "    .dataframe tbody tr th:only-of-type {\n",
       "        vertical-align: middle;\n",
       "    }\n",
       "\n",
       "    .dataframe tbody tr th {\n",
       "        vertical-align: top;\n",
       "    }\n",
       "\n",
       "    .dataframe thead th {\n",
       "        text-align: right;\n",
       "    }\n",
       "</style>\n",
       "<table border=\"1\" class=\"dataframe\">\n",
       "  <thead>\n",
       "    <tr style=\"text-align: right;\">\n",
       "      <th></th>\n",
       "      <th>text</th>\n",
       "      <th>class</th>\n",
       "    </tr>\n",
       "  </thead>\n",
       "  <tbody>\n",
       "    <tr>\n",
       "      <th>0</th>\n",
       "      <td>A group of disabled Americans protesting the S...</td>\n",
       "      <td>0</td>\n",
       "    </tr>\n",
       "    <tr>\n",
       "      <th>1</th>\n",
       "      <td>In case you missed it, CNN anchor Don Lemon we...</td>\n",
       "      <td>0</td>\n",
       "    </tr>\n",
       "    <tr>\n",
       "      <th>2</th>\n",
       "      <td>Following the presidential debate, Donald Trum...</td>\n",
       "      <td>0</td>\n",
       "    </tr>\n",
       "    <tr>\n",
       "      <th>3</th>\n",
       "      <td>Ted Cruz is horrible. According to former clas...</td>\n",
       "      <td>0</td>\n",
       "    </tr>\n",
       "    <tr>\n",
       "      <th>4</th>\n",
       "      <td>When they go low we go high.    Michelle Obam...</td>\n",
       "      <td>0</td>\n",
       "    </tr>\n",
       "  </tbody>\n",
       "</table>\n",
       "</div>"
      ],
      "text/plain": [
       "                                                text  class\n",
       "0  A group of disabled Americans protesting the S...      0\n",
       "1  In case you missed it, CNN anchor Don Lemon we...      0\n",
       "2  Following the presidential debate, Donald Trum...      0\n",
       "3  Ted Cruz is horrible. According to former clas...      0\n",
       "4   When they go low we go high.    Michelle Obam...      0"
      ]
     },
     "execution_count": 204,
     "metadata": {},
     "output_type": "execute_result"
    }
   ],
   "source": [
    "df = df_marge.drop(['title', 'subject', 'date'], axis=1)\n",
    "df.head()"
   ]
  },
  {
   "cell_type": "markdown",
   "metadata": {},
   "source": [
    "### The next fuction clean the text from extra space, special caracters, URL, and lowercase\n"
   ]
  },
  {
   "cell_type": "code",
   "execution_count": 205,
   "metadata": {},
   "outputs": [],
   "source": [
    "def wordopt(text):\n",
    "    text = text.lower()\n",
    "    text = re.sub('\\[.*?\\]', '', text)\n",
    "    text = re.sub(\"\\\\W\",\" \",text) \n",
    "    text = re.sub('https?://\\S+|www\\.\\S+', '', text)\n",
    "    text = re.sub('<.*?>+', '', text)\n",
    "    text = re.sub('[%s]' % re.escape(string.punctuation), '', text)\n",
    "    text = re.sub('\\n', '', text)\n",
    "    text = re.sub('\\w*\\d\\w*', '', text)    \n",
    "    return text"
   ]
  },
  {
   "cell_type": "markdown",
   "metadata": {},
   "source": [
    "### In order to clean our Database text, we apply the previous fuction to our column 'text'\n"
   ]
  },
  {
   "cell_type": "code",
   "execution_count": 206,
   "metadata": {},
   "outputs": [
    {
     "data": {
      "text/html": [
       "<div>\n",
       "<style scoped>\n",
       "    .dataframe tbody tr th:only-of-type {\n",
       "        vertical-align: middle;\n",
       "    }\n",
       "\n",
       "    .dataframe tbody tr th {\n",
       "        vertical-align: top;\n",
       "    }\n",
       "\n",
       "    .dataframe thead th {\n",
       "        text-align: right;\n",
       "    }\n",
       "</style>\n",
       "<table border=\"1\" class=\"dataframe\">\n",
       "  <thead>\n",
       "    <tr style=\"text-align: right;\">\n",
       "      <th></th>\n",
       "      <th>text</th>\n",
       "      <th>class</th>\n",
       "    </tr>\n",
       "  </thead>\n",
       "  <tbody>\n",
       "    <tr>\n",
       "      <th>0</th>\n",
       "      <td>a group of disabled americans protesting the s...</td>\n",
       "      <td>0</td>\n",
       "    </tr>\n",
       "    <tr>\n",
       "      <th>1</th>\n",
       "      <td>in case you missed it  cnn anchor don lemon we...</td>\n",
       "      <td>0</td>\n",
       "    </tr>\n",
       "    <tr>\n",
       "      <th>2</th>\n",
       "      <td>following the presidential debate  donald trum...</td>\n",
       "      <td>0</td>\n",
       "    </tr>\n",
       "    <tr>\n",
       "      <th>3</th>\n",
       "      <td>ted cruz is horrible  according to former clas...</td>\n",
       "      <td>0</td>\n",
       "    </tr>\n",
       "    <tr>\n",
       "      <th>4</th>\n",
       "      <td>when they go low we go high     michelle obam...</td>\n",
       "      <td>0</td>\n",
       "    </tr>\n",
       "  </tbody>\n",
       "</table>\n",
       "</div>"
      ],
      "text/plain": [
       "                                                text  class\n",
       "0  a group of disabled americans protesting the s...      0\n",
       "1  in case you missed it  cnn anchor don lemon we...      0\n",
       "2  following the presidential debate  donald trum...      0\n",
       "3  ted cruz is horrible  according to former clas...      0\n",
       "4   when they go low we go high     michelle obam...      0"
      ]
     },
     "execution_count": 206,
     "metadata": {},
     "output_type": "execute_result"
    }
   ],
   "source": [
    "df[\"text\"] = df[\"text\"].apply(wordopt)\n",
    "df.head()"
   ]
  },
  {
   "cell_type": "markdown",
   "metadata": {},
   "source": [
    "### Shuffling"
   ]
  },
  {
   "cell_type": "code",
   "execution_count": 207,
   "metadata": {},
   "outputs": [],
   "source": [
    "df = df.sample(frac = 1)"
   ]
  },
  {
   "cell_type": "markdown",
   "metadata": {},
   "source": [
    "### Reset Index: 0, 1, 2..."
   ]
  },
  {
   "cell_type": "code",
   "execution_count": 208,
   "metadata": {},
   "outputs": [],
   "source": [
    "df.reset_index(inplace = True)"
   ]
  },
  {
   "cell_type": "markdown",
   "metadata": {},
   "source": [
    "### Deleting Index colum"
   ]
  },
  {
   "cell_type": "code",
   "execution_count": 209,
   "metadata": {},
   "outputs": [
    {
     "data": {
      "text/html": [
       "<div>\n",
       "<style scoped>\n",
       "    .dataframe tbody tr th:only-of-type {\n",
       "        vertical-align: middle;\n",
       "    }\n",
       "\n",
       "    .dataframe tbody tr th {\n",
       "        vertical-align: top;\n",
       "    }\n",
       "\n",
       "    .dataframe thead th {\n",
       "        text-align: right;\n",
       "    }\n",
       "</style>\n",
       "<table border=\"1\" class=\"dataframe\">\n",
       "  <thead>\n",
       "    <tr style=\"text-align: right;\">\n",
       "      <th></th>\n",
       "      <th>text</th>\n",
       "      <th>class</th>\n",
       "    </tr>\n",
       "  </thead>\n",
       "  <tbody>\n",
       "    <tr>\n",
       "      <th>0</th>\n",
       "      <td>the democrats went down the path of identity p...</td>\n",
       "      <td>0</td>\n",
       "    </tr>\n",
       "    <tr>\n",
       "      <th>1</th>\n",
       "      <td>katrina pierson is a black woman  she is also ...</td>\n",
       "      <td>0</td>\n",
       "    </tr>\n",
       "    <tr>\n",
       "      <th>2</th>\n",
       "      <td>johannesburg  reuters    former zimbabwe finan...</td>\n",
       "      <td>1</td>\n",
       "    </tr>\n",
       "    <tr>\n",
       "      <th>3</th>\n",
       "      <td>one of the things that has plagued america   b...</td>\n",
       "      <td>0</td>\n",
       "    </tr>\n",
       "    <tr>\n",
       "      <th>4</th>\n",
       "      <td>washington  reuters    the u s  department of ...</td>\n",
       "      <td>1</td>\n",
       "    </tr>\n",
       "  </tbody>\n",
       "</table>\n",
       "</div>"
      ],
      "text/plain": [
       "                                                text  class\n",
       "0  the democrats went down the path of identity p...      0\n",
       "1  katrina pierson is a black woman  she is also ...      0\n",
       "2  johannesburg  reuters    former zimbabwe finan...      1\n",
       "3  one of the things that has plagued america   b...      0\n",
       "4  washington  reuters    the u s  department of ...      1"
      ]
     },
     "execution_count": 209,
     "metadata": {},
     "output_type": "execute_result"
    }
   ],
   "source": [
    "df.drop([\"index\"], axis = 1, inplace = True)\n",
    "df.head()"
   ]
  },
  {
   "cell_type": "code",
   "execution_count": 210,
   "metadata": {},
   "outputs": [
    {
     "data": {
      "text/plain": [
       "(57468, 2)"
      ]
     },
     "execution_count": 210,
     "metadata": {},
     "output_type": "execute_result"
    }
   ],
   "source": [
    "df.shape"
   ]
  },
  {
   "cell_type": "markdown",
   "metadata": {},
   "source": [
    "## Defining the variables for the model"
   ]
  },
  {
   "cell_type": "code",
   "execution_count": 211,
   "metadata": {},
   "outputs": [],
   "source": [
    "x = df[\"text\"]\n",
    "y = df[\"class\"]"
   ]
  },
  {
   "cell_type": "markdown",
   "metadata": {},
   "source": [
    "## Split the data"
   ]
  },
  {
   "cell_type": "code",
   "execution_count": 212,
   "metadata": {},
   "outputs": [],
   "source": [
    "x_train, x_test, y_train, y_test = train_test_split(x, y, test_size=0.20)"
   ]
  },
  {
   "cell_type": "markdown",
   "metadata": {},
   "source": [
    "## Text to Vectors"
   ]
  },
  {
   "cell_type": "code",
   "execution_count": 213,
   "metadata": {},
   "outputs": [],
   "source": [
    "from sklearn.feature_extraction.text import TfidfVectorizer"
   ]
  },
  {
   "cell_type": "code",
   "execution_count": 214,
   "metadata": {},
   "outputs": [],
   "source": [
    "vectorization = TfidfVectorizer()\n",
    "xv_train = vectorization.fit_transform(x_train)\n",
    "xv_test = vectorization.transform(x_test)"
   ]
  },
  {
   "cell_type": "markdown",
   "metadata": {},
   "source": [
    "## Confusion Matrix"
   ]
  },
  {
   "cell_type": "code",
   "execution_count": 215,
   "metadata": {},
   "outputs": [],
   "source": [
    "from sklearn.metrics import plot_confusion_matrix"
   ]
  },
  {
   "cell_type": "code",
   "execution_count": 216,
   "metadata": {},
   "outputs": [],
   "source": [
    "def conf_mat_acc(model):\n",
    "    disp = plot_confusion_matrix(model, xv_test, y_test, cmap=plt.cm.Blues, values_format='d')\n",
    "    true_pred = disp.confusion_matrix[0,0]+disp.confusion_matrix[1,1]\n",
    "    total_data = np.sum(disp.confusion_matrix)\n",
    "    accuracy = true_pred/total_data\n",
    "    print('accuracy: ', np.round(accuracy, 2))\n",
    "    plt.show()"
   ]
  },
  {
   "cell_type": "markdown",
   "metadata": {},
   "source": [
    "## Logistic Regression"
   ]
  },
  {
   "cell_type": "code",
   "execution_count": 217,
   "metadata": {},
   "outputs": [],
   "source": [
    "from sklearn.linear_model import LogisticRegression"
   ]
  },
  {
   "cell_type": "markdown",
   "metadata": {},
   "source": [
    "### Training Logistic regretion model"
   ]
  },
  {
   "cell_type": "code",
   "execution_count": 218,
   "metadata": {},
   "outputs": [
    {
     "data": {
      "text/plain": [
       "LogisticRegression()"
      ]
     },
     "execution_count": 218,
     "metadata": {},
     "output_type": "execute_result"
    }
   ],
   "source": [
    "LR = LogisticRegression()\n",
    "LR.fit(xv_train,y_train)"
   ]
  },
  {
   "cell_type": "code",
   "execution_count": 219,
   "metadata": {},
   "outputs": [
    {
     "name": "stdout",
     "output_type": "stream",
     "text": [
      "[1 1 0 ... 1 0 0]\n"
     ]
    }
   ],
   "source": [
    "pred_LR = LR.predict(xv_test)\n",
    "print(pred_LR)"
   ]
  },
  {
   "cell_type": "code",
   "execution_count": 220,
   "metadata": {},
   "outputs": [
    {
     "data": {
      "text/plain": [
       "0.9623281712197669"
      ]
     },
     "execution_count": 220,
     "metadata": {},
     "output_type": "execute_result"
    }
   ],
   "source": [
    "LR.score(xv_test, y_test)"
   ]
  },
  {
   "cell_type": "code",
   "execution_count": 221,
   "metadata": {},
   "outputs": [
    {
     "name": "stdout",
     "output_type": "stream",
     "text": [
      "              precision    recall  f1-score   support\n",
      "\n",
      "           0       0.96      0.97      0.96      5975\n",
      "           1       0.97      0.96      0.96      5519\n",
      "\n",
      "    accuracy                           0.96     11494\n",
      "   macro avg       0.96      0.96      0.96     11494\n",
      "weighted avg       0.96      0.96      0.96     11494\n",
      "\n"
     ]
    }
   ],
   "source": [
    "print(classification_report(y_test, pred_LR))"
   ]
  },
  {
   "cell_type": "code",
   "execution_count": 222,
   "metadata": {},
   "outputs": [
    {
     "name": "stdout",
     "output_type": "stream",
     "text": [
      "accuracy:  0.96\n"
     ]
    },
    {
     "data": {
      "image/png": "[encoded data removed]",
      "text/plain": [
       "<Figure size 432x288 with 2 Axes>"
      ]
     },
     "metadata": {
      "needs_background": "light"
     },
     "output_type": "display_data"
    }
   ],
   "source": [
    "conf_mat_acc(LR)"
   ]
  },
  {
   "cell_type": "markdown",
   "metadata": {},
   "source": [
    "The Accuracy is as follow (17508+15865)/(17508+15865+152+148)=0.99\n",
    "\n",
    "17508: in the database the value was 0 but the prediction was 0, so it is correct!\n",
    "\n",
    "15865: in the database the value was 1 but the prediction was 1, so it is correct! \n",
    "\n",
    "152: in the database the value was 0 but the prediction was 1, so it is incorrect\n",
    "\n",
    "148: in the database the value was 1 but the prediction was 0, so it is incorrect\n",
    "\n",
    "*The best model would be 0 in the errors (152 & 148) and whole the values in the diagonal*"
   ]
  },
  {
   "cell_type": "markdown",
   "metadata": {},
   "source": [
    "## Decision Tree Classification"
   ]
  },
  {
   "cell_type": "code",
   "execution_count": 223,
   "metadata": {},
   "outputs": [],
   "source": [
    "from sklearn.tree import DecisionTreeClassifier"
   ]
  },
  {
   "cell_type": "markdown",
   "metadata": {},
   "source": [
    "### Training the Decision Tree"
   ]
  },
  {
   "cell_type": "code",
   "execution_count": 224,
   "metadata": {},
   "outputs": [
    {
     "data": {
      "text/plain": [
       "DecisionTreeClassifier()"
      ]
     },
     "execution_count": 224,
     "metadata": {},
     "output_type": "execute_result"
    }
   ],
   "source": [
    "DT = DecisionTreeClassifier()\n",
    "DT.fit(xv_train, y_train)"
   ]
  },
  {
   "cell_type": "code",
   "execution_count": 225,
   "metadata": {},
   "outputs": [],
   "source": [
    "pred_DT = DT.predict(xv_test)"
   ]
  },
  {
   "cell_type": "code",
   "execution_count": 226,
   "metadata": {},
   "outputs": [
    {
     "data": {
      "text/plain": [
       "0.9757264659822517"
      ]
     },
     "execution_count": 226,
     "metadata": {},
     "output_type": "execute_result"
    }
   ],
   "source": [
    "DT.score(xv_test, y_test)"
   ]
  },
  {
   "cell_type": "code",
   "execution_count": 227,
   "metadata": {},
   "outputs": [
    {
     "name": "stdout",
     "output_type": "stream",
     "text": [
      "              precision    recall  f1-score   support\n",
      "\n",
      "           0       0.98      0.97      0.98      5975\n",
      "           1       0.97      0.98      0.97      5519\n",
      "\n",
      "    accuracy                           0.98     11494\n",
      "   macro avg       0.98      0.98      0.98     11494\n",
      "weighted avg       0.98      0.98      0.98     11494\n",
      "\n"
     ]
    }
   ],
   "source": [
    "print(classification_report(y_test, pred_DT))"
   ]
  },
  {
   "cell_type": "code",
   "execution_count": 228,
   "metadata": {},
   "outputs": [
    {
     "name": "stdout",
     "output_type": "stream",
     "text": [
      "accuracy:  0.98\n"
     ]
    },
    {
     "data": {
      "image/png": "[encoded data removed]",
      "text/plain": [
       "<Figure size 432x288 with 2 Axes>"
      ]
     },
     "metadata": {
      "needs_background": "light"
     },
     "output_type": "display_data"
    }
   ],
   "source": [
    "conf_mat_acc(DT)"
   ]
  },
  {
   "cell_type": "markdown",
   "metadata": {},
   "source": [
    "## Gradient Boosting Classifier"
   ]
  },
  {
   "cell_type": "code",
   "execution_count": 229,
   "metadata": {},
   "outputs": [],
   "source": [
    "from sklearn.ensemble import GradientBoostingClassifier"
   ]
  },
  {
   "cell_type": "code",
   "execution_count": 230,
   "metadata": {},
   "outputs": [
    {
     "data": {
      "text/plain": [
       "GradientBoostingClassifier(random_state=0)"
      ]
     },
     "execution_count": 230,
     "metadata": {},
     "output_type": "execute_result"
    }
   ],
   "source": [
    "GBC = GradientBoostingClassifier(random_state=0)\n",
    "GBC.fit(xv_train, y_train)"
   ]
  },
  {
   "cell_type": "code",
   "execution_count": 231,
   "metadata": {},
   "outputs": [],
   "source": [
    "pred_gbc = GBC.predict(xv_test)"
   ]
  },
  {
   "cell_type": "code",
   "execution_count": 232,
   "metadata": {},
   "outputs": [
    {
     "data": {
      "text/plain": [
       "0.9524099530189665"
      ]
     },
     "execution_count": 232,
     "metadata": {},
     "output_type": "execute_result"
    }
   ],
   "source": [
    "GBC.score(xv_test, y_test)"
   ]
  },
  {
   "cell_type": "code",
   "execution_count": 233,
   "metadata": {},
   "outputs": [
    {
     "name": "stdout",
     "output_type": "stream",
     "text": [
      "              precision    recall  f1-score   support\n",
      "\n",
      "           0       0.93      0.98      0.96      5975\n",
      "           1       0.97      0.92      0.95      5519\n",
      "\n",
      "    accuracy                           0.95     11494\n",
      "   macro avg       0.95      0.95      0.95     11494\n",
      "weighted avg       0.95      0.95      0.95     11494\n",
      "\n"
     ]
    }
   ],
   "source": [
    "print(classification_report(y_test, pred_gbc))"
   ]
  },
  {
   "cell_type": "code",
   "execution_count": 234,
   "metadata": {},
   "outputs": [
    {
     "name": "stdout",
     "output_type": "stream",
     "text": [
      "accuracy:  0.95\n"
     ]
    },
    {
     "data": {
      "image/png": "[encoded data removed]",
      "text/plain": [
       "<Figure size 432x288 with 2 Axes>"
      ]
     },
     "metadata": {
      "needs_background": "light"
     },
     "output_type": "display_data"
    }
   ],
   "source": [
    "conf_mat_acc(GBC)"
   ]
  },
  {
   "cell_type": "markdown",
   "metadata": {},
   "source": [
    "## Random Forest Classifier"
   ]
  },
  {
   "cell_type": "code",
   "execution_count": 235,
   "metadata": {},
   "outputs": [],
   "source": [
    "from sklearn.ensemble import RandomForestClassifier"
   ]
  },
  {
   "cell_type": "code",
   "execution_count": 236,
   "metadata": {},
   "outputs": [
    {
     "data": {
      "text/plain": [
       "RandomForestClassifier(random_state=0)"
      ]
     },
     "execution_count": 236,
     "metadata": {},
     "output_type": "execute_result"
    }
   ],
   "source": [
    "RFC = RandomForestClassifier(random_state=0)\n",
    "RFC.fit(xv_train, y_train)"
   ]
  },
  {
   "cell_type": "code",
   "execution_count": 237,
   "metadata": {},
   "outputs": [
    {
     "data": {
      "text/plain": [
       "0.9829476248477467"
      ]
     },
     "execution_count": 237,
     "metadata": {},
     "output_type": "execute_result"
    }
   ],
   "source": [
    "RFC.score(xv_test, y_test)"
   ]
  },
  {
   "cell_type": "code",
   "execution_count": 238,
   "metadata": {},
   "outputs": [],
   "source": [
    "pred_RFC = RFC.predict(xv_test)"
   ]
  },
  {
   "cell_type": "code",
   "execution_count": 239,
   "metadata": {},
   "outputs": [
    {
     "name": "stdout",
     "output_type": "stream",
     "text": [
      "Accuracy: 98.29%\n"
     ]
    }
   ],
   "source": [
    "score = accuracy_score(y_test, pred_RFC)\n",
    "print(f'Accuracy: {round(score*100,2)}%')"
   ]
  },
  {
   "cell_type": "code",
   "execution_count": 240,
   "metadata": {},
   "outputs": [
    {
     "name": "stdout",
     "output_type": "stream",
     "text": [
      "              precision    recall  f1-score   support\n",
      "\n",
      "           0       0.98      0.98      0.98      5975\n",
      "           1       0.98      0.98      0.98      5519\n",
      "\n",
      "    accuracy                           0.98     11494\n",
      "   macro avg       0.98      0.98      0.98     11494\n",
      "weighted avg       0.98      0.98      0.98     11494\n",
      "\n"
     ]
    }
   ],
   "source": [
    "print(classification_report(y_test, pred_RFC))"
   ]
  },
  {
   "cell_type": "code",
   "execution_count": 241,
   "metadata": {},
   "outputs": [
    {
     "name": "stdout",
     "output_type": "stream",
     "text": [
      "accuracy:  0.98\n"
     ]
    },
    {
     "data": {
      "image/png": "[encoded data removed]",
      "text/plain": [
       "<Figure size 432x288 with 2 Axes>"
      ]
     },
     "metadata": {
      "needs_background": "light"
     },
     "output_type": "display_data"
    }
   ],
   "source": [
    "conf_mat_acc(RFC)"
   ]
  },
  {
   "cell_type": "markdown",
   "metadata": {},
   "source": [
    "## Passive Aggressive Classifier"
   ]
  },
  {
   "cell_type": "code",
   "execution_count": 242,
   "metadata": {},
   "outputs": [],
   "source": [
    "from sklearn.linear_model import PassiveAggressiveClassifier"
   ]
  },
  {
   "cell_type": "code",
   "execution_count": 243,
   "metadata": {},
   "outputs": [
    {
     "data": {
      "text/plain": [
       "PassiveAggressiveClassifier(max_iter=50)"
      ]
     },
     "execution_count": 243,
     "metadata": {},
     "output_type": "execute_result"
    }
   ],
   "source": [
    "PAC=PassiveAggressiveClassifier(max_iter=50)\n",
    "PAC.fit(xv_train,y_train)"
   ]
  },
  {
   "cell_type": "code",
   "execution_count": 244,
   "metadata": {},
   "outputs": [
    {
     "name": "stdout",
     "output_type": "stream",
     "text": [
      "Accuracy: 98.66%\n"
     ]
    }
   ],
   "source": [
    "pred_PAC=PAC.predict(xv_test)\n",
    "score = accuracy_score(y_test, pred_PAC)\n",
    "print(f'Accuracy: {round(score*100,2)}%')"
   ]
  },
  {
   "cell_type": "code",
   "execution_count": 245,
   "metadata": {},
   "outputs": [
    {
     "data": {
      "text/plain": [
       "0.9866017052375152"
      ]
     },
     "execution_count": 245,
     "metadata": {},
     "output_type": "execute_result"
    }
   ],
   "source": [
    "PAC.score(xv_test, y_test)"
   ]
  },
  {
   "cell_type": "code",
   "execution_count": 246,
   "metadata": {},
   "outputs": [
    {
     "name": "stdout",
     "output_type": "stream",
     "text": [
      "accuracy:  0.99\n"
     ]
    },
    {
     "data": {
      "image/png": "[encoded data removed]",
      "text/plain": [
       "<Figure size 432x288 with 2 Axes>"
      ]
     },
     "metadata": {
      "needs_background": "light"
     },
     "output_type": "display_data"
    }
   ],
   "source": [
    "conf_mat_acc(PAC)"
   ]
  },
  {
   "cell_type": "markdown",
   "metadata": {},
   "source": [
    "# Final Test"
   ]
  },
  {
   "cell_type": "code",
   "execution_count": 247,
   "metadata": {},
   "outputs": [
    {
     "data": {
      "text/html": [
       "<div>\n",
       "<style scoped>\n",
       "    .dataframe tbody tr th:only-of-type {\n",
       "        vertical-align: middle;\n",
       "    }\n",
       "\n",
       "    .dataframe tbody tr th {\n",
       "        vertical-align: top;\n",
       "    }\n",
       "\n",
       "    .dataframe thead th {\n",
       "        text-align: right;\n",
       "    }\n",
       "</style>\n",
       "<table border=\"1\" class=\"dataframe\">\n",
       "  <thead>\n",
       "    <tr style=\"text-align: right;\">\n",
       "      <th></th>\n",
       "      <th>title</th>\n",
       "      <th>text</th>\n",
       "      <th>class</th>\n",
       "      <th>subject</th>\n",
       "      <th>date</th>\n",
       "    </tr>\n",
       "  </thead>\n",
       "  <tbody>\n",
       "    <tr>\n",
       "      <th>0</th>\n",
       "      <td>‘We Caved’</td>\n",
       "      <td>On a late July day this past summer, a roar fi...</td>\n",
       "      <td>1</td>\n",
       "      <td>NaN</td>\n",
       "      <td>NaN</td>\n",
       "    </tr>\n",
       "    <tr>\n",
       "      <th>1</th>\n",
       "      <td>Zimbabwe court postpones U.S. citizen's subver...</td>\n",
       "      <td>HARARE (Reuters) - A Zimbabwean court has post...</td>\n",
       "      <td>1</td>\n",
       "      <td>worldnews</td>\n",
       "      <td>December 8, 2017</td>\n",
       "    </tr>\n",
       "    <tr>\n",
       "      <th>2</th>\n",
       "      <td>Congress sends White House repeal of broadband...</td>\n",
       "      <td>WASHINGTON (Reuters) - The U.S. House voted on...</td>\n",
       "      <td>1</td>\n",
       "      <td>politicsNews</td>\n",
       "      <td>March 28, 2017</td>\n",
       "    </tr>\n",
       "    <tr>\n",
       "      <th>3</th>\n",
       "      <td>Poland's stance on migrants unchanged despite ...</td>\n",
       "      <td>KRYNICA ZDROJ, Poland (Reuters) - Poland will ...</td>\n",
       "      <td>1</td>\n",
       "      <td>worldnews</td>\n",
       "      <td>September 6, 2017</td>\n",
       "    </tr>\n",
       "    <tr>\n",
       "      <th>4</th>\n",
       "      <td>Putin critic Navalny calls election boycott ra...</td>\n",
       "      <td>MOSCOW (Reuters) - Opposition leader Alexei Na...</td>\n",
       "      <td>1</td>\n",
       "      <td>worldnews</td>\n",
       "      <td>December 27, 2017</td>\n",
       "    </tr>\n",
       "    <tr>\n",
       "      <th>...</th>\n",
       "      <td>...</td>\n",
       "      <td>...</td>\n",
       "      <td>...</td>\n",
       "      <td>...</td>\n",
       "      <td>...</td>\n",
       "    </tr>\n",
       "    <tr>\n",
       "      <th>95</th>\n",
       "      <td>Finnish president says joining NATO would requ...</td>\n",
       "      <td>HELSINKI (Reuters) - Any move by Finland to jo...</td>\n",
       "      <td>1</td>\n",
       "      <td>worldnews</td>\n",
       "      <td>October 30, 2017</td>\n",
       "    </tr>\n",
       "    <tr>\n",
       "      <th>96</th>\n",
       "      <td>Head of UK's anti-Brexit party appeals for hel...</td>\n",
       "      <td>LONDON (Reuters) - Calling himself a  proud sa...</td>\n",
       "      <td>1</td>\n",
       "      <td>worldnews</td>\n",
       "      <td>September 18, 2017</td>\n",
       "    </tr>\n",
       "    <tr>\n",
       "      <th>97</th>\n",
       "      <td>Hezbollah emerges a winner from Mideast turmoi...</td>\n",
       "      <td>BEIRUT (Reuters) - When Iran declared victory ...</td>\n",
       "      <td>1</td>\n",
       "      <td>worldnews</td>\n",
       "      <td>November 30, 2017</td>\n",
       "    </tr>\n",
       "    <tr>\n",
       "      <th>98</th>\n",
       "      <td>Say What?! FBI Never Destroyed Laptops of Clin...</td>\n",
       "      <td>0 comments \\nThis is just too rich! The FBI ag...</td>\n",
       "      <td>0</td>\n",
       "      <td>NaN</td>\n",
       "      <td>NaN</td>\n",
       "    </tr>\n",
       "    <tr>\n",
       "      <th>99</th>\n",
       "      <td>Kansas House fails in attempt to override Medi...</td>\n",
       "      <td>(Reuters) - Lawmakers in Kansas on Monday fail...</td>\n",
       "      <td>1</td>\n",
       "      <td>politicsNews</td>\n",
       "      <td>April 3, 2017</td>\n",
       "    </tr>\n",
       "  </tbody>\n",
       "</table>\n",
       "<p>100 rows × 5 columns</p>\n",
       "</div>"
      ],
      "text/plain": [
       "                                                title  \\\n",
       "0                                          ‘We Caved’   \n",
       "1   Zimbabwe court postpones U.S. citizen's subver...   \n",
       "2   Congress sends White House repeal of broadband...   \n",
       "3   Poland's stance on migrants unchanged despite ...   \n",
       "4   Putin critic Navalny calls election boycott ra...   \n",
       "..                                                ...   \n",
       "95  Finnish president says joining NATO would requ...   \n",
       "96  Head of UK's anti-Brexit party appeals for hel...   \n",
       "97  Hezbollah emerges a winner from Mideast turmoi...   \n",
       "98  Say What?! FBI Never Destroyed Laptops of Clin...   \n",
       "99  Kansas House fails in attempt to override Medi...   \n",
       "\n",
       "                                                 text  class       subject  \\\n",
       "0   On a late July day this past summer, a roar fi...      1           NaN   \n",
       "1   HARARE (Reuters) - A Zimbabwean court has post...      1     worldnews   \n",
       "2   WASHINGTON (Reuters) - The U.S. House voted on...      1  politicsNews   \n",
       "3   KRYNICA ZDROJ, Poland (Reuters) - Poland will ...      1     worldnews   \n",
       "4   MOSCOW (Reuters) - Opposition leader Alexei Na...      1     worldnews   \n",
       "..                                                ...    ...           ...   \n",
       "95  HELSINKI (Reuters) - Any move by Finland to jo...      1     worldnews   \n",
       "96  LONDON (Reuters) - Calling himself a  proud sa...      1     worldnews   \n",
       "97  BEIRUT (Reuters) - When Iran declared victory ...      1     worldnews   \n",
       "98  0 comments \\nThis is just too rich! The FBI ag...      0           NaN   \n",
       "99  (Reuters) - Lawmakers in Kansas on Monday fail...      1  politicsNews   \n",
       "\n",
       "                   date  \n",
       "0                   NaN  \n",
       "1     December 8, 2017   \n",
       "2       March 28, 2017   \n",
       "3    September 6, 2017   \n",
       "4    December 27, 2017   \n",
       "..                  ...  \n",
       "95    October 30, 2017   \n",
       "96  September 18, 2017   \n",
       "97   November 30, 2017   \n",
       "98                  NaN  \n",
       "99       April 3, 2017   \n",
       "\n",
       "[100 rows x 5 columns]"
      ]
     },
     "execution_count": 247,
     "metadata": {},
     "output_type": "execute_result"
    }
   ],
   "source": [
    "news = pd.read_csv('News.csv')\n",
    "news"
   ]
  },
  {
   "cell_type": "code",
   "execution_count": 248,
   "metadata": {},
   "outputs": [
    {
     "name": "stdout",
     "output_type": "stream",
     "text": [
      "<class 'pandas.core.frame.DataFrame'>\n",
      "RangeIndex: 100 entries, 0 to 99\n",
      "Data columns (total 5 columns):\n",
      " #   Column   Non-Null Count  Dtype \n",
      "---  ------   --------------  ----- \n",
      " 0   title    100 non-null    object\n",
      " 1   text     100 non-null    object\n",
      " 2   class    100 non-null    int64 \n",
      " 3   subject  75 non-null     object\n",
      " 4   date     75 non-null     object\n",
      "dtypes: int64(1), object(4)\n",
      "memory usage: 4.0+ KB\n"
     ]
    }
   ],
   "source": [
    "news.info()"
   ]
  },
  {
   "cell_type": "code",
   "execution_count": 249,
   "metadata": {},
   "outputs": [
    {
     "data": {
      "text/plain": [
       "array([1, 0])"
      ]
     },
     "execution_count": 249,
     "metadata": {},
     "output_type": "execute_result"
    }
   ],
   "source": [
    "news['class'].unique()"
   ]
  },
  {
   "cell_type": "code",
   "execution_count": 250,
   "metadata": {},
   "outputs": [],
   "source": [
    "news[\"text\"] = news[\"text\"].apply(wordopt) \n",
    "final_x_test = news[\"text\"]\n",
    "final_xv_test = vectorization.transform(final_x_test)"
   ]
  },
  {
   "cell_type": "code",
   "execution_count": 251,
   "metadata": {},
   "outputs": [],
   "source": [
    "final_y_test = news['class']"
   ]
  },
  {
   "cell_type": "markdown",
   "metadata": {},
   "source": [
    "## Logistic Regression TEST"
   ]
  },
  {
   "cell_type": "code",
   "execution_count": 252,
   "metadata": {},
   "outputs": [
    {
     "data": {
      "text/plain": [
       "0.97"
      ]
     },
     "execution_count": 252,
     "metadata": {},
     "output_type": "execute_result"
    }
   ],
   "source": [
    "LR.score(final_xv_test, final_y_test)"
   ]
  },
  {
   "cell_type": "markdown",
   "metadata": {},
   "source": [
    "## Decision Tree TEST"
   ]
  },
  {
   "cell_type": "code",
   "execution_count": 253,
   "metadata": {},
   "outputs": [
    {
     "data": {
      "text/plain": [
       "0.99"
      ]
     },
     "execution_count": 253,
     "metadata": {},
     "output_type": "execute_result"
    }
   ],
   "source": [
    "DT.score(final_xv_test, final_y_test)"
   ]
  },
  {
   "cell_type": "markdown",
   "metadata": {},
   "source": [
    "## Gradient Boosting Classifier TEST"
   ]
  },
  {
   "cell_type": "code",
   "execution_count": 254,
   "metadata": {},
   "outputs": [
    {
     "data": {
      "text/plain": [
       "0.99"
      ]
     },
     "execution_count": 254,
     "metadata": {},
     "output_type": "execute_result"
    }
   ],
   "source": [
    "GBC.score(final_xv_test, final_y_test)"
   ]
  },
  {
   "cell_type": "markdown",
   "metadata": {},
   "source": [
    "## Random Forest Classifier"
   ]
  },
  {
   "cell_type": "code",
   "execution_count": 255,
   "metadata": {},
   "outputs": [
    {
     "data": {
      "text/plain": [
       "0.99"
      ]
     },
     "execution_count": 255,
     "metadata": {},
     "output_type": "execute_result"
    }
   ],
   "source": [
    "RFC.score(final_xv_test, final_y_test)"
   ]
  }
 ],
 "metadata": {
  "kernelspec": {
   "display_name": "Python 3.9.7 ('base')",
   "language": "python",
   "name": "python3"
  },
  "language_info": {
   "codemirror_mode": {
    "name": "ipython",
    "version": 3
   },
   "file_extension": ".py",
   "mimetype": "text/x-python",
   "name": "python",
   "nbconvert_exporter": "python",
   "pygments_lexer": "ipython3",
   "version": "3.9.7"
  },
  "orig_nbformat": 4,
  "vscode": {
   "interpreter": {
    "hash": "51ba172a9db2ba9bd6569a8a7361d34beb499103f4f240382399ffb78e49dc3f"
   }
  }
 },
 "nbformat": 4,
 "nbformat_minor": 2
}
